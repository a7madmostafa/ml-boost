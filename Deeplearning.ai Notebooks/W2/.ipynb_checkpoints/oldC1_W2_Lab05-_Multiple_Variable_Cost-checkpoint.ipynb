{
 "cells": [
  {
   "cell_type": "markdown",
   "id": "distributed-detective",
   "metadata": {},
   "source": [
    "# UGL - Multiple Variable Cost"
   ]
  },
  {
   "cell_type": "code",
   "execution_count": 2,
   "id": "after-cargo",
   "metadata": {},
   "outputs": [],
   "source": [
    "import numpy as np"
   ]
  },
  {
   "cell_type": "code",
   "execution_count": 3,
   "id": "entire-ecology",
   "metadata": {},
   "outputs": [
    {
     "name": "stdout",
     "output_type": "stream",
     "text": [
      "matrix A has 2 rows and 2 columns\n",
      "[[1 1]\n",
      " [1 1]]\n",
      "\n",
      "Vector b has 2 rows and 1 column\n",
      "[[2]\n",
      " [2]]\n",
      "\n",
      "Multiply A times b\n",
      "[[4]\n",
      " [4]]\n",
      "The product has 2 rows and 1 column\n"
     ]
    }
   ],
   "source": [
    "# make a matrix A with 2 rows and 2 columns\n",
    "tmp_A = np.array([[1,1],[1,1]])\n",
    "print(f\"matrix A has 2 rows and 2 columns\")\n",
    "print(tmp_A)\n",
    "print()\n",
    "\n",
    "# make a colun vector B with 2 rows and 1 column\n",
    "tmp_b = np.array([[2],[2]])\n",
    "print(f\"Vector b has 2 rows and 1 column\")\n",
    "print(tmp_b)\n",
    "print()\n",
    "# perform matrix multiplication A x b\n",
    "tmp_A_times_b = np.dot(tmp_A,tmp_b)\n",
    "print(\"Multiply A times b\")\n",
    "print(tmp_A_times_b)\n",
    "print(\"The product has 2 rows and 1 column\")"
   ]
  },
  {
   "cell_type": "code",
   "execution_count": 4,
   "id": "drawn-product",
   "metadata": {},
   "outputs": [
    {
     "name": "stdout",
     "output_type": "stream",
     "text": [
      "matrix A has 2 rows and 2 columns\n",
      "[[1 1]\n",
      " [1 1]]\n",
      "\n",
      "Vector b has 2 rows and 1 column\n",
      "[[2]\n",
      " [2]]\n",
      "\n",
      "The error message you'll see is:\n",
      "shapes (2,1) and (2,2) not aligned: 1 (dim 1) != 2 (dim 0)\n"
     ]
    }
   ],
   "source": [
    "# make a matrix A with 2 rows and 2 columns\n",
    "tmp_A = np.array([[1,1],[1,1]])\n",
    "print(f\"matrix A has 2 rows and 2 columns\")\n",
    "print(tmp_A)\n",
    "print()\n",
    "\n",
    "# make a colun vector B with 2 rows and 1 column\n",
    "tmp_b = np.array([[2],[2]])\n",
    "print(f\"Vector b has 2 rows and 1 column\")\n",
    "print(tmp_b)\n",
    "print()\n",
    "\n",
    "# Try to perform matrix multiplication A x b\n",
    "try:\n",
    "    tmp_b_times_A = np.dot(tmp_b,tmp_A)\n",
    "except Exception as e:\n",
    "    print(\"The error message you'll see is:\")\n",
    "    print(e)"
   ]
  },
  {
   "cell_type": "markdown",
   "id": "entertaining-playback",
   "metadata": {},
   "source": [
    "The message says that it's checking:\n",
    " - The number of columns of the left matrix `b`, or `dim 1` is 1.\n",
    " - The number of rows on the right matrix `dim 0`, is 2.\n",
    " - 1 does not equal 2\n",
    " - So the two matrices cannot be multiplied together."
   ]
  },
  {
   "cell_type": "markdown",
   "id": "useful-desire",
   "metadata": {},
   "source": [
    "#### Calculate the cost\n",
    "Next, calculate the cost $J(\\vec{w})$\n",
    "- Recall that the equation for the cost function $J(w)$ looks like this:\n",
    "$$J(\\vec{w}) = \\frac{1}{2m} \\sum\\limits_{i = 1}^{m} (h_{w}(x^{(i)}) - y^{(i)})^2 \\tag{1}$$ \n",
    "\n",
    "- The model prediction is a column vector of 97 examples:\n",
    "$$\\vec{h_{\\vec{w}}(\\mathbf{X})} = \\begin{pmatrix}\n",
    "h^{(0)}_{w}(x) \\\\\n",
    "h^{(1)}_{w}(x) \\\\\n",
    "\\cdots \\\\\n",
    "h^{(97-1)}_{w}(x) \\\\\n",
    "\\end{pmatrix} \n",
    "$$\n",
    "\n",
    "- Similarly, `y_train` contains the true profit per city as a column vector of 97 examples\n",
    "$$\\vec{y} = \\begin{pmatrix}\n",
    "y^{(0)} \\\\\n",
    "y^{(1)} \\\\\n",
    "\\cdots \\\\\n",
    "y^{(97-1)}\\\\\n",
    "\\end{pmatrix} \n",
    "$$\n",
    "\n",
    "Here is a small example to show you how to apply element-wise operations on numpy arrays."
   ]
  },
  {
   "cell_type": "code",
   "execution_count": 5,
   "id": "attempted-potato",
   "metadata": {},
   "outputs": [
    {
     "name": "stdout",
     "output_type": "stream",
     "text": [
      "Create a column vector c with 3 rows and 1 column\n",
      "[[1]\n",
      " [2]\n",
      " [3]]\n",
      "\n",
      "Create a column vector c with 3 rows and 1 column\n",
      "[[2]\n",
      " [2]\n",
      " [2]]\n",
      "\n"
     ]
    }
   ],
   "source": [
    "# Create two sample column vectors\n",
    "tmp_c = np.array([[1],[2],[3]])\n",
    "print(\"Create a column vector c with 3 rows and 1 column\")\n",
    "print(tmp_c)\n",
    "print()\n",
    "\n",
    "tmp_d = np.array([[2],[2],[2]])\n",
    "print(\"Create a column vector c with 3 rows and 1 column\")\n",
    "print(tmp_d)\n",
    "print()"
   ]
  },
  {
   "cell_type": "markdown",
   "id": "sought-postage",
   "metadata": {},
   "source": [
    "You can apply `+, -, *, /` operators on two vectors of the same length."
   ]
  },
  {
   "cell_type": "code",
   "execution_count": 6,
   "id": "spoken-testament",
   "metadata": {},
   "outputs": [
    {
     "name": "stdout",
     "output_type": "stream",
     "text": [
      "Take the element-wise multiplication between vectors c and d\n",
      "[[2]\n",
      " [4]\n",
      " [6]]\n",
      "\n"
     ]
    }
   ],
   "source": [
    "# Take the element-wise multiplication of two vectors\n",
    "tmp_mult = tmp_c * tmp_d\n",
    "print(\"Take the element-wise multiplication between vectors c and d\")\n",
    "print(tmp_mult)\n",
    "print()"
   ]
  },
  {
   "cell_type": "markdown",
   "id": "hearing-nudist",
   "metadata": {},
   "source": [
    "You can use `numpy.square` to apply the element-wise square of a vector\n",
    "- Note, `**2` will also work."
   ]
  },
  {
   "cell_type": "code",
   "execution_count": 8,
   "id": "median-extraction",
   "metadata": {},
   "outputs": [
    {
     "name": "stdout",
     "output_type": "stream",
     "text": [
      "Take the element-wise square of vector c\n",
      "[[1]\n",
      " [4]\n",
      " [9]]\n",
      "\n",
      "Another way to get the element-wise square of vector c\n",
      "[[1]\n",
      " [4]\n",
      " [9]]\n",
      "\n"
     ]
    }
   ],
   "source": [
    "# Take the element-wise square of vector c\n",
    "tmp_square = np.square(tmp_c)\n",
    "tmp_square_option_2 = tmp_c**2\n",
    "print(\"Take the element-wise square of vector c\")\n",
    "print(tmp_square)\n",
    "print()\n",
    "print(\"Another way to get the element-wise square of vector c\")\n",
    "print(tmp_square_option_2)\n",
    "print()"
   ]
  },
  {
   "cell_type": "markdown",
   "id": "interim-prefix",
   "metadata": {},
   "source": [
    "You can use `numpy.sum` to add up all the elements of a vector (or matrix)"
   ]
  },
  {
   "cell_type": "code",
   "execution_count": 10,
   "id": "fossil-objective",
   "metadata": {},
   "outputs": [
    {
     "name": "stdout",
     "output_type": "stream",
     "text": [
      "Vector d\n",
      "[[2]\n",
      " [2]\n",
      " [2]]\n",
      "\n",
      "Take the sum of all the elements in vector d\n",
      "6\n"
     ]
    }
   ],
   "source": [
    "# Take the sum of all elements in vector d\n",
    "tmp_sum = np.sum(tmp_d)\n",
    "print(\"Vector d\")\n",
    "print(tmp_d)\n",
    "print()\n",
    "print(\"Take the sum of all the elements in vector d\")\n",
    "print(tmp_sum)"
   ]
  },
  {
   "cell_type": "code",
   "execution_count": null,
   "id": "convenient-taylor",
   "metadata": {},
   "outputs": [],
   "source": []
  }
 ],
 "metadata": {
  "kernelspec": {
   "display_name": "Python 3",
   "language": "python",
   "name": "python3"
  },
  "language_info": {
   "codemirror_mode": {
    "name": "ipython",
    "version": 3
   },
   "file_extension": ".py",
   "mimetype": "text/x-python",
   "name": "python",
   "nbconvert_exporter": "python",
   "pygments_lexer": "ipython3",
   "version": "3.9.1"
  }
 },
 "nbformat": 4,
 "nbformat_minor": 5
}
