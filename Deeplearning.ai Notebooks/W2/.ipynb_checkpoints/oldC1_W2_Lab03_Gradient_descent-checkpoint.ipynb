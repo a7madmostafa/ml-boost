{
 "cells": [
  {
   "cell_type": "code",
   "execution_count": 3,
   "id": "favorite-meeting",
   "metadata": {},
   "outputs": [],
   "source": [
    "import matplotlib.pyplot as plt"
   ]
  },
  {
   "cell_type": "code",
   "execution_count": 4,
   "id": "anonymous-logistics",
   "metadata": {},
   "outputs": [],
   "source": [
    "# Let's start with the same data points as before \n",
    "X = [1000, 2000] \n",
    "y = [200, 400]"
   ]
  },
  {
   "cell_type": "code",
   "execution_count": 5,
   "id": "increasing-healing",
   "metadata": {},
   "outputs": [
    {
     "data": {
      "text/plain": [
       "Text(0.5, 0, 'Size (feet^2)')"
      ]
     },
     "execution_count": 5,
     "metadata": {},
     "output_type": "execute_result"
    },
    {
     "data": {
      "image/png": "[encoded data removed]",
      "text/plain": [
       "<Figure size 432x288 with 1 Axes>"
      ]
     },
     "metadata": {
      "needs_background": "light"
     },
     "output_type": "display_data"
    }
   ],
   "source": [
    "# Plot the data points\n",
    "plt.scatter(X, y, marker='x', c='r')\n",
    "\n",
    "# Set the title\n",
    "plt.title(\"Housing Prices\")\n",
    "# Set the y-axis label\n",
    "plt.ylabel('Price (in 1000s of dollars)')\n",
    "# Set the x-axis label\n",
    "plt.xlabel('Size (feet^2)')"
   ]
  },
  {
   "cell_type": "code",
   "execution_count": null,
   "id": "detailed-habitat",
   "metadata": {},
   "outputs": [],
   "source": [
    "# View the current parameter vector\n",
    "tmp_w = [2,1]\n",
    "print(\"View the current parameter vector\")\n",
    "print(tmp_w)\n",
    "print()\n",
    "\n",
    "# Calculate the model prediction h"
   ]
  },
  {
   "cell_type": "code",
   "execution_count": null,
   "id": "pediatric-violin",
   "metadata": {},
   "outputs": [],
   "source": [
    "# Let's see how we can use gradient descent to arrive at this value of w\n",
    "\n",
    "# Calculate cost \n",
    "\n",
    "# Calculate gradient \n",
    "\n",
    "# alpha, direction of update\n",
    "\n",
    "# Show new value of tmp_w - superimpose on plot"
   ]
  }
 ],
 "metadata": {
  "kernelspec": {
   "display_name": "Python 3",
   "language": "python",
   "name": "python3"
  },
  "language_info": {
   "codemirror_mode": {
    "name": "ipython",
    "version": 3
   },
   "file_extension": ".py",
   "mimetype": "text/x-python",
   "name": "python",
   "nbconvert_exporter": "python",
   "pygments_lexer": "ipython3",
   "version": "3.9.1"
  }
 },
 "nbformat": 4,
 "nbformat_minor": 5
}
