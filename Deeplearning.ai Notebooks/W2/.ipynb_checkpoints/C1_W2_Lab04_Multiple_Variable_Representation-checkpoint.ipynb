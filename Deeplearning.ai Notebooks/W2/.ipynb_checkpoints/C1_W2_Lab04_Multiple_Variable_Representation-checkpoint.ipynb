{
 "cells": [
  {
   "cell_type": "markdown",
   "metadata": {},
   "source": [
    "# Ungraded Lab - Multiple Variable Model Representation\n",
    "\n",
    "In this ungraded lab, you will extend our model to support multiple features. You will also utilized a popular python numeric library, NumPy to efficiently store and manipulate data. For detailed descriptions and examples of routines used, see [Numpy Documentation](https://numpy.org/doc/stable/reference/)\n"
   ]
  },
  {
   "cell_type": "code",
   "execution_count": null,
   "metadata": {},
   "outputs": [],
   "source": [
    "import numpy as np"
   ]
  },
  {
   "cell_type": "markdown",
   "metadata": {},
   "source": [
    "### Problem Statement\n",
    "\n",
    "You will use the motivating example of housing price prediction. The training dataset contains three examples with 4 features (size,bedrooms,floors and age) shown in the table below.\n",
    "\n",
    "| Size (feet$^2$) | Number of Bedrooms  | Number of floors | Age of  Home | Price (1000s dollars)  |   \n",
    "| ----------------| ------------------- |----------------- |--------------|-------------- |  \n",
    "| 2104            | 5                   | 1                | 45           | 460           |  \n",
    "| 1416            | 3                   | 2                | 40           | 232           |  \n",
    "| 852             | 2                   | 1                | 35           | 178           |  \n",
    "\n",
    "We would like to build a linear regression model using these values so we can then predict the price for other houses - say, a house with 1200 feet$^2$, 3 bedrooms, 1 floor, 40 years old. In this lab you will create the model. In the following labs, we will fit the data.\n",
    "\n",
    "### Notation: X, y and parameters w\n",
    "\n",
    "The lectures and equations describe $\\mathbf{X}$, $\\mathbf{y}$, $\\mathbf{w}$. In our code these are represented by variables:\n",
    "- `X_orig` represents input variables, also called input features. In previous labs, there was just one feature, now there are four. \n",
    "- `y_orig` represents output variables, also known as target variables (in this case - Price (1000s of dollars)). \n",
    "- `w_init` represents our parameters.  \n",
    "Please run the following code cell to create your `X_orig` and `y_orig` variables."
   ]
  },
  {
   "cell_type": "code",
   "execution_count": null,
   "metadata": {},
   "outputs": [],
   "source": [
    "X_orig = np.array([[2104,5,1,45], [1416,3,2,40], [852,2,1,35]])\n",
    "y_orig = np.array([460,232,178]).reshape(-1,1)  #reshape creates (m,1) matrix"
   ]
  },
  {
   "cell_type": "markdown",
   "metadata": {},
   "source": [
    "## Matrix X containing our examples\n",
    "Similar to the table above, examples are stored in a NumPy matrix `X_init`. Each row of the matrix represents one example. As described in lecture, examples are extended by a column of ones creating `X_init_e`, described below. In general, when you have $m$ training examples ( $m$ is three in our example), and there are $n$ features (four in our example), $\\mathbf{X}$ is a matrix with dimensions ($m$, $n+1$) (m rows, n+1 columns).\n",
    "\n",
    "\n",
    "$$\\mathbf{X} = \\begin{pmatrix}\n",
    " \\mathbf{x}^{(0)} \\\\ \n",
    " \\mathbf{x}^{(1)} \\\\\n",
    " \\cdots \\\\\n",
    " \\mathbf{x}^{(m-1)}\n",
    "\\end{pmatrix}\n",
    "= \\begin{pmatrix}\n",
    " x^{(0)}_0 & x^{(0)}_1 & \\cdots & x^{(0)}_{n} \\\\ \n",
    " x^{(1)}_0 & x^{(1)}_1 & \\cdots & x^{(1)}_{n} \\\\\n",
    " \\cdots \\\\\n",
    " x^{(m-1)}_0 & x^{(m-1)}_1 & \\cdots & x^{(m-1)}_{n} \n",
    "\\end{pmatrix}\n",
    "$$\n",
    "notation:\n",
    "- $\\mathbf{x}^{(0)}$ is example 0. The superscript in parenthesis indicates the example number. The bold indicates a vector (described more below)\n",
    "- $x^{(0)}_2$ is element 2 in example 0. The superscript in parenthesis indicates the example number while the subscript represents an element.  \n",
    "\n",
    "For our dataset, $\\mathbf{X}$ is (3,5):\n",
    "$$\\mathbf{X} = \\begin{pmatrix}\n",
    " \\mathbf{x}^{(0)} \\\\ \n",
    " \\mathbf{x}^{(1)} \\\\\n",
    " \\mathbf{x}^{(2)}\n",
    "\\end{pmatrix}\n",
    "= \\begin{pmatrix}\n",
    " 1 & 2104 & 5 & 1 & 45 & 460 \\\\ \n",
    " 1 & 1416 & 3 & 2 & 40 & 232 \\\\\n",
    " 1 & 852  & 2 & 1 & 35 & 178\n",
    "\\end{pmatrix}\n",
    "$$\n",
    "Lets try  implementing this. Start by examining our input data"
   ]
  },
  {
   "cell_type": "code",
   "execution_count": null,
   "metadata": {},
   "outputs": [],
   "source": [
    "# data is stored in numpy array/matrix\n",
    "print(f\"X Shape: {X_orig.shape}, X Type:{type(X_orig)})\")\n",
    "print(X_orig)\n",
    "print(f\"y Shape: {y_orig.shape}, y Type:{type(y_orig)})\")\n",
    "print(y_orig)"
   ]
  },
  {
   "cell_type": "markdown",
   "metadata": {},
   "source": [
    "To simplify matrix/vector operations, you will want to first add another column to your data (as $x_0$) to accomodate the $w_0$ intercept term. This allows you to treat $w_0$ the same as the other parameters.\n",
    "\n",
    "So if your original `X_orig` looks like this:\n",
    "\n",
    "$$ \n",
    "\\mathbf{X_{orig}} = \n",
    "\\begin{pmatrix}\n",
    " x^{(0)}_1 \\\\ \n",
    " x^{(1)}_1 \\\\\n",
    " \\cdots \\\\\n",
    " x^{(m-1)}_1 \n",
    "\\end{pmatrix}\n",
    "$$\n",
    "\n",
    "You will want to combine it with a vector of ones:\n",
    "$$\n",
    "\\mathbf{1} = \n",
    "\\begin{pmatrix}\n",
    " 1 \\\\ \n",
    " 1 \\\\\n",
    " \\cdots \\\\\n",
    " 1\n",
    "\\end{pmatrix}\n",
    "$$\n",
    "\n",
    "So it will look like this:\n",
    "$$\n",
    "\\mathbf{X_{train}} = \\begin{pmatrix} \\mathbf{1} & \\mathbf{X_{orig}}\\end{pmatrix}\n",
    "=\n",
    "\\begin{pmatrix}\n",
    " 1 & x^{(0)}_1 \\\\ \n",
    " 1 & x^{(1)}_1 \\\\\n",
    " \\cdots \\\\\n",
    " 1 & x^{(m-1)}_1 \n",
    "\\end{pmatrix}\n",
    "$$\n"
   ]
  },
  {
   "cell_type": "code",
   "execution_count": null,
   "metadata": {},
   "outputs": [],
   "source": [
    "tmp_ones = np.ones((3,1), dtype=np.int64)  #dtype just added to keep examples neat.. not required\n",
    "print (\"(m,1) column of ones\")\n",
    "print(tmp_ones)\n",
    "#extend X_orig with column of ones\n",
    "X_train = np.concatenate([tmp_ones, X_orig], axis=1)\n",
    "y_train = y_orig # just for symmetry\n",
    "\n",
    "print(f\"Vector of ones stacked to the left of X_orig \")\n",
    "print(X_train)"
   ]
  },
  {
   "cell_type": "markdown",
   "metadata": {},
   "source": [
    "#### Parameter vector w\n",
    "\n",
    "-$\\mathbf{w}$ is a vector with dimensions ($n+1$, $1$) (n+1 rows, 1 column)\n",
    "  - Each column contains the parameters associated with one feature.\n",
    "  - in our dataset, n+1 is 5.\n",
    "\n",
    "$$\\mathbf{w} = \\begin{pmatrix}\n",
    "w_0 \\\\ \n",
    "w_1 \\\\\n",
    "\\cdots\\\\\n",
    "w_{n}\n",
    "\\end{pmatrix}\n",
    "$$\n",
    "For this lab, lets initialize `w` with some handy predetermined values. Normally, `w` would be initalized with random values or zero. Note the use of \".reshape\" to create a (n,1) column vector. "
   ]
  },
  {
   "cell_type": "code",
   "execution_count": null,
   "metadata": {},
   "outputs": [],
   "source": [
    "w_init = np.array([ 785.1811367994083, 0.39133535,  18.75376741, \n",
    "                   -53.36032453, -26.42131618]).reshape(-1,1)\n",
    "print(f\"w_init shape: {w_init.shape}\")"
   ]
  },
  {
   "cell_type": "markdown",
   "metadata": {},
   "source": [
    "## Model prediction\n",
    "The model's prediction with multiple variables is given by the linear model:\n",
    "\n",
    "$$ f_{\\mathbf{w}}(\\mathbf{x}) =  w_0 + w_1x_1 + ... + w_nx_n \\tag{1}$$\n",
    "\n",
    "This is where representing our data in matrices and vectors pays off. Recall from the Linear Algebra review the Matrix Vector multiplication. This is shown below\n",
    "![Matrix Vector Multiplication](./figures/MatrixVector1.PNG)\n",
    "\n",
    "Note that Row/Column that is highlighted. Knowing that we have set the $x_0$ values to 1, its clear the first row/column operation implements the prediction (1) above for $\\mathbf{x}^{(0)}$ , resulting in $f_{\\mathbf{w}}(\\mathbf{x}^{(0)})$. The second row of the result is $f_{\\mathbf{w}}(\\mathbf{x}^{(1)})$ and so on. By utilizing Matrix Vector multiplication, we can compute the prediction of all of the examples in $X$ in one statement!.\n",
    "\n",
    "$$f_{\\mathbf{w}}(\\mathbf{X})=\\mathbf{X}\\mathbf{w} \\tag{2}$$\n",
    "\n",
    "Let's try this. We have previously initized `X_train` and `w_init`. Before you run the cell below, what shape will `f_w` be?"
   ]
  },
  {
   "cell_type": "code",
   "execution_count": null,
   "metadata": {},
   "outputs": [],
   "source": [
    "# calculate f_w for all examples.\n",
    "f_w = X_train @ w_init  # the same as np.matmul(x_orig_e, w_init)\n",
    "print(\"f_w calculated using a matrix multiply\")\n",
    "print(f_w)"
   ]
  },
  {
   "cell_type": "markdown",
   "metadata": {},
   "source": [
    "Using our carefully selected `w` values, the results nearly match our `y_train` values."
   ]
  },
  {
   "cell_type": "code",
   "execution_count": null,
   "metadata": {},
   "outputs": [],
   "source": [
    "print(\"y_train values\")\n",
    "print(y_train)"
   ]
  },
  {
   "cell_type": "markdown",
   "metadata": {},
   "source": [
    "### Single Prediction\n",
    "\n",
    "We now can make prediction on a full set of examples, what about a single example? There are multiple ways to form this calculation, but here we will immitate the calculation that was highlighted in blue in the figure above.\n",
    "For convenience of notation, you'll define $\\mathbf{x}$ as a vector:\n",
    "\n",
    "$$ \\mathbf{x} = \\begin{pmatrix}\n",
    "        x_0 & x_1 & ... & x_n\n",
    "      \\end{pmatrix}\n",
    "$$\n",
    "\n",
    "- With $x_0 = 1$ and ($x_1$,..,$x_n$) being your input data. \n",
    "\n",
    "The prediction $f_{\\mathbf{w}}(\\mathbf{x})$ is now\n",
    "$$ f_{\\mathbf{w}}(\\mathbf{x}) = \\mathbf{x}\\mathbf{w}  \\tag{3} $$ \n",
    "Which performs the following operation:\n",
    "$$\n",
    "f_{\\mathbf{w}}(\\mathbf{x}) = x_0w_0 + x_1w_1 + ... + x_nw_n\n",
    "$$\n",
    "Let's try it.  Recall we wanted to predict the value of a house with 1200 feet$^2$, 3 bedrooms, 1 floor, 40 years old."
   ]
  },
  {
   "cell_type": "code",
   "execution_count": null,
   "metadata": {},
   "outputs": [],
   "source": [
    "# Define our x vector, extended with a 1.\n",
    "x_vec = np.array([1,1200,3,1,40]).reshape(1,-1) # row vector\n",
    "print(\"x_vec shape\", x_vec.shape)\n",
    "print(\"x_vec\")\n",
    "print(x_vec)"
   ]
  },
  {
   "cell_type": "code",
   "execution_count": null,
   "metadata": {},
   "outputs": [],
   "source": [
    "# make a prediction\n",
    "f_wv = x_vec @ w_init\n",
    "print(\"f_wv shape\", f_wv.shape)\n",
    "print(\"prediction f_wv\", f_wv)"
   ]
  },
  {
   "cell_type": "markdown",
   "metadata": {},
   "source": [
    "Great! Now that we have realized our model in Matrix and Vector form lets \n",
    "- review some of the operations in more detail\n",
    "- try an example on your own."
   ]
  },
  {
   "cell_type": "markdown",
   "metadata": {},
   "source": [
    "### np.concatenate and axis\n",
    "We will use np.concatenate often. The use of `axis` is often confusing. Lets look at this in more detail with an example.\n"
   ]
  },
  {
   "cell_type": "code",
   "execution_count": null,
   "metadata": {},
   "outputs": [],
   "source": [
    "tmp_X_orig = np.array([[9],\n",
    "                       [2]\n",
    "                      ])\n",
    "\n",
    "print(\"Matrix tmp_X_orig\")\n",
    "print(tmp_X_orig, \"\\n\")\n",
    "\n",
    "# Use np.ones to create a column vector of ones\n",
    "tmp_ones = np.ones((2,1))\n",
    "print(f\"Column vector of ones (2 rows and 1 column)\")\n",
    "print(tmp_ones, \"\\n\")\n",
    "\n",
    "tmp_X = np.concatenate([tmp_ones, tmp_X_orig], axis=1)\n",
    "print(\"Vector of ones stacked to the left of tmp_X_orig\")\n",
    "print(tmp_X, \"\\n\")\n",
    "\n",
    "print(f\"tmp_x has shape: {tmp_X.shape}\")"
   ]
  },
  {
   "cell_type": "markdown",
   "metadata": {},
   "source": [
    "\n",
    "In this small example, the $\\mathbf{X}$ is now:\n",
    "$$\\mathbf{X} = \n",
    "\\begin{pmatrix}\n",
    "1 & 9 \\\\\n",
    "1 & 2\n",
    "\\end{pmatrix}\n",
    "$$\n",
    "\n",
    "Notice that when calling `np.concatenate`, you're setting `axis=1`.  \n",
    "- This puts the vector of ones on the left and the tmp_X_orig to the right.\n",
    "- If you set axis = 0, then `np.concatenate` would place the vector of ones ON TOP of tmp_X_orig"
   ]
  },
  {
   "cell_type": "code",
   "execution_count": null,
   "metadata": {},
   "outputs": [],
   "source": [
    "print(\"Calling numpy.concatenate, setting axis=0\")\n",
    "tmp_X_version_2 = np.concatenate([tmp_ones, tmp_X_orig], axis=0)\n",
    "print(\"Vector of ones stacked to the ON TOP of tmp_X_orig\")\n",
    "print(tmp_X_version_2)"
   ]
  },
  {
   "cell_type": "markdown",
   "metadata": {},
   "source": [
    "So if you set axis=0, $\\mathbf{X}$ looks like this:\n",
    "$$\\mathbf{X} = \n",
    "\\begin{pmatrix}\n",
    "1 \\\\ 1 \\\\\n",
    "9 \\\\ 2\n",
    "\\end{pmatrix}\n",
    "$$\n",
    "This is **NOT** what you want.\n",
    "\n",
    "You'll want to set axis=1 so that you get a column vector of ones on the left and a column vector on the right:\n",
    "\n",
    "$$\\mathbf{X} = \n",
    "\\begin{pmatrix}\n",
    "1 & x^{(0)}_1 \\\\\n",
    "1 & x^{(1)}_1\n",
    "\\end{pmatrix}\n",
    "$$"
   ]
  },
  {
   "cell_type": "markdown",
   "metadata": {},
   "source": [
    "## Second Example on your own\n",
    "Let's try a similar example with slightly different features.\n",
    "\n",
    "| Size (feet$^2$) | Number of Bedrooms  | Age of  Home | Price (1000s dollars)  |   \n",
    "| ----------------| ------------------- |--------------|-------------- |  \n",
    "| 2104            | 5                   | 45           | 460           |  \n",
    "| 1416            | 3                   | 40           | 232           | \n",
    "| 1534            | 4                   | 30           | 315           |  \n",
    "| 852             | 2                   | 35           | 178           |  \n",
    "\n",
    "**Using the previous example as a guide** as needed,  \n",
    "- create the data structures for `X_orig`, `y_orig` \n",
    "- extend X_orig with a column of 1's.\n",
    "- calculate `f_w`\n",
    "- make a prediction for a single example, 1500sqft, 3 bedrooms, 40 years old"
   ]
  },
  {
   "cell_type": "code",
   "execution_count": null,
   "metadata": {},
   "outputs": [],
   "source": [
    "# use these precalculated values as inital parameters\n",
    "w_init2 = np.array([-267.70709382, -0.37871854, 220.9610984, 9.32723112]).reshape(-1,1)\n",
    "\n",
    "X_orig2   =\n",
    "y_train2  = \n",
    "tmp_ones2 = \n",
    "X_train2  = \n",
    "f_w2      = \n",
    "print(f_w2)\n",
    "print(y_train2)\n",
    "\n",
    "x_vec2 = np.array([1,1500,3,40]).reshape(1,-1)\n",
    "f_wv2 = x_vec2 @ w_init2\n",
    "print(f_wv2)"
   ]
  },
  {
   "cell_type": "markdown",
   "metadata": {},
   "source": [
    "<details>\n",
    "<summary>\n",
    "    <font size='3', color='darkgreen'><b>Hints</b></font>\n",
    "</summary>\n",
    "\n",
    "```\n",
    "w_init2   = np.array([-267.70709382, -0.37871854, 220.9610984, 9.32723112]).reshape(-1,1)\n",
    "X_orig2   = np.array([[2104,5,45], [1416,3,40], [1534,4,30], [852,2,35]])\n",
    "y_train2  = np.array([460,232,315,178]).reshape(-1,1)  #reshape creates (m,1) matrix\n",
    "tmp_ones2 = np.ones((4,1), dtype=np.int64)\n",
    "X_train2  = np.concatenate([tmp_ones2, X_orig2], axis=1)\n",
    "f_w2      = X_train2 @ w_init2\n",
    "print(f_w2)\n",
    "print(y_train2)\n",
    "\n",
    "x_vec2 = np.array([1,1500,3,40]).reshape(1,-1)\n",
    "f_wv2 = x_vec2 @ w_init2\n",
    "print(f_wv2)\n",
    "-----------------------------------------------------------------\n",
    "    Output of cell\n",
    "-----------------------------------------------------------------\n",
    "[[459.99999042]\n",
    " [231.99999354]\n",
    " [314.99999302]\n",
    " [177.9999961 ]]\n",
    "[[460]\n",
    " [232]\n",
    " [315]\n",
    " [178]]\n",
    "[[200.18763618]]\n",
    "```"
   ]
  },
  {
   "cell_type": "code",
   "execution_count": null,
   "metadata": {},
   "outputs": [],
   "source": []
  }
 ],
 "metadata": {
  "kernelspec": {
   "display_name": "Python 3",
   "language": "python",
   "name": "python3"
  },
  "language_info": {
   "codemirror_mode": {
    "name": "ipython",
    "version": 3
   },
   "file_extension": ".py",
   "mimetype": "text/x-python",
   "name": "python",
   "nbconvert_exporter": "python",
   "pygments_lexer": "ipython3",
   "version": "3.8.6"
  }
 },
 "nbformat": 4,
 "nbformat_minor": 5
}
