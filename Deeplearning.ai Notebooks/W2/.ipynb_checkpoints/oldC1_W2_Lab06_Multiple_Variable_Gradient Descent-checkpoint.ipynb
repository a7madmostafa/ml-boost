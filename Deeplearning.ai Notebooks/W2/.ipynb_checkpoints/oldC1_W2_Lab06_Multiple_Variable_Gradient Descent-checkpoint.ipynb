{
 "cells": [
  {
   "cell_type": "code",
   "execution_count": 2,
   "id": "representative-rhythm",
   "metadata": {},
   "outputs": [],
   "source": [
    "import numpy as np"
   ]
  },
  {
   "cell_type": "markdown",
   "id": "buried-blackberry",
   "metadata": {},
   "source": [
    "#### Prediction: $\\vec{h}_{\\vec{w}}(\\mathbf{X})$\n",
    "- This is the model's prediction, calculated by $\\mathbf{X}\\vec{w}$"
   ]
  },
  {
   "cell_type": "code",
   "execution_count": 3,
   "id": "obvious-keeping",
   "metadata": {},
   "outputs": [
    {
     "name": "stdout",
     "output_type": "stream",
     "text": [
      "Provide two cities and their populations\n",
      "[[1 9]\n",
      " [1 2]]\n",
      "View the current parameter vector\n",
      "[[1]\n",
      " [2]]\n",
      "\n",
      "Calculate the model prediction h\n",
      "[[19]\n",
      " [ 5]]\n",
      "\n",
      "The model predicts [19] for city 0, and [5] for city 1\n"
     ]
    }
   ],
   "source": [
    "# Provide two cities and their populations\n",
    "tmp_X = np.array([[1, 9],[1, 2]])\n",
    "print(\"Provide two cities and their populations\")\n",
    "print(tmp_X)\n",
    "\n",
    "# View the current parameter vector\n",
    "tmp_w = np.array([[1],[2]])\n",
    "print(\"View the current parameter vector\")\n",
    "print(tmp_w)\n",
    "print()\n",
    "\n",
    "# Calculate the model prediction h\n",
    "tmp_h = np.dot(tmp_X, tmp_w)\n",
    "print(\"Calculate the model prediction h\")\n",
    "print(tmp_h)\n",
    "print()\n",
    "print(f\"The model predicts {tmp_h[0]} for city 0, and {tmp_h[1]} for city 1\")"
   ]
  },
  {
   "cell_type": "markdown",
   "id": "developmental-sustainability",
   "metadata": {},
   "source": [
    "#### Error: $\\vec{h}_{\\vec{w}}(\\mathbf{X}) - \\vec{y}$\n",
    "  - This is the difference between the model prediction and the actual value of y.\n"
   ]
  },
  {
   "cell_type": "code",
   "execution_count": 5,
   "id": "informed-recorder",
   "metadata": {},
   "outputs": [
    {
     "name": "stdout",
     "output_type": "stream",
     "text": [
      "Model prediction tmp_h\n",
      "[[19]\n",
      " [ 5]]\n",
      "\n",
      "True labels for the profits per city\n",
      "[[10]\n",
      " [ 6]]\n",
      "\n",
      "Error\n",
      "[[ 9]\n",
      " [-1]]\n",
      "The error for city 0 prediction is [9] and is positive; the error for city 1 prediction is [-1] and is negative\n"
     ]
    }
   ],
   "source": [
    "# View the model's predictions\n",
    "print(\"Model prediction tmp_h\")\n",
    "print(tmp_h)\n",
    "print()\n",
    "\n",
    "# Get the true labels for these two cities\n",
    "tmp_y = np.array([[10],[6]])\n",
    "print(\"True labels for the profits per city\")\n",
    "print(tmp_y)\n",
    "print()\n",
    "\n",
    "# Calculate the error\n",
    "tmp_error = tmp_h - tmp_y\n",
    "print(\"Error\")\n",
    "print(tmp_error)\n",
    "print(f\"The error for city 0 prediction is {tmp_error[0]} and is positive; the error for city 1 prediction is {tmp_error[1]} and is negative\")"
   ]
  },
  {
   "cell_type": "markdown",
   "id": "suitable-chain",
   "metadata": {},
   "source": [
    "#### Gradient: $\\frac{1}{m} \\mathbf{X}^T \\times Error$\n",
    "- This is a vector containing the gradient for each element of the parameter vector $\\vec{w}$\n",
    "  - Since $\\vec{w}$ is a column vector with 2 rows, this gradient is also a column vector with 2 rows.\n",
    "  - The $\\frac{1}{m}$ takes the average gradient across all 97 training examples (97 cities).\n"
   ]
  },
  {
   "cell_type": "code",
   "execution_count": 7,
   "id": "automatic-fiction",
   "metadata": {},
   "outputs": [
    {
     "name": "stdout",
     "output_type": "stream",
     "text": [
      "X: two cities and their populations\n",
      "[[1 9]\n",
      " [1 2]]\n",
      "\n",
      "Transpose of X\n",
      "[[1 1]\n",
      " [9 2]]\n",
      "\n",
      "The number of examples (number of cities) is 2\n",
      "\n",
      "Error\n",
      "[[ 9]\n",
      " [-1]]\n",
      "Gradient\n",
      "[[ 4. ]\n",
      " [39.5]]\n"
     ]
    }
   ],
   "source": [
    "# Provide two cities and their populations\n",
    "tmp_X = np.array([[1, 9],[1, 2]])\n",
    "print(\"X: two cities and their populations\")\n",
    "print(tmp_X)\n",
    "print()\n",
    "\n",
    "# transpose of X\n",
    "tmp_X_T = tmp_X.T\n",
    "print(\"Transpose of X\")\n",
    "print(tmp_X_T)\n",
    "print()\n",
    "\n",
    "# The number of examples (cities)\n",
    "tmp_m = tmp_X.shape[0]\n",
    "print(f\"The number of examples (number of cities) is {tmp_m}\\n\")\n",
    "\n",
    "# error\n",
    "print(\"Error\")\n",
    "print(tmp_error)\n",
    "\n",
    "# Calculate the gradient\n",
    "tmp_gradient = (1/tmp_m) * np.dot(tmp_X_T, tmp_error)\n",
    "print(\"Gradient\")\n",
    "print(tmp_gradient)"
   ]
  },
  {
   "cell_type": "markdown",
   "id": "virgin-kitchen",
   "metadata": {},
   "source": [
    "#### Scale by the learning rate: $\\alpha$\n",
    "- $\\alpha$ is a positive number smaller than 1 that reduces the magnitude of the update to be smaller than the actual gradient.\n"
   ]
  },
  {
   "cell_type": "code",
   "execution_count": 8,
   "id": "authentic-output",
   "metadata": {},
   "outputs": [
    {
     "name": "stdout",
     "output_type": "stream",
     "text": [
      "Learning rate alpha: 0.01\n",
      "Gradient before scaling by the learning rate:\n",
      "[[ 4. ]\n",
      " [39.5]]\n",
      "\n",
      "Gradient after scaling by the learning rate\n",
      "[[0.04 ]\n",
      " [0.395]]\n"
     ]
    }
   ],
   "source": [
    "tmp_alpha = 0.01\n",
    "print(f\"Learning rate alpha: {tmp_alpha}\")\n",
    "\n",
    "print(\"Gradient before scaling by the learning rate:\")\n",
    "print(tmp_gradient)\n",
    "print()\n",
    "\n",
    "gradient_scaled_by_learning_rate = tmp_alpha * tmp_gradient\n",
    "print(\"Gradient after scaling by the learning rate\")\n",
    "print(gradient_scaled_by_learning_rate)"
   ]
  },
  {
   "cell_type": "markdown",
   "id": "incorporate-queen",
   "metadata": {},
   "source": [
    "- Subtract the gradient: $-$\n",
    "  - Recall that the gradient points in the direction that would INCREASE the cost, negative one multiplied by the gradient will point in the direction that REDUCES the cost.\n",
    "  - So, to update the weight in the direction that reduces the cost, subtract the gradient."
   ]
  },
  {
   "cell_type": "code",
   "execution_count": 9,
   "id": "hybrid-patent",
   "metadata": {},
   "outputs": [
    {
     "name": "stdout",
     "output_type": "stream",
     "text": [
      "Gradient after scaling by the learning rate\n",
      "[[0.04 ]\n",
      " [0.395]]\n",
      "\n",
      "The direction to update the parameter vector\n",
      "[[-0.04 ]\n",
      " [-0.395]]\n"
     ]
    }
   ],
   "source": [
    "gradient_scaled_by_learning_rate = tmp_alpha * tmp_gradient\n",
    "print(\"Gradient after scaling by the learning rate\")\n",
    "print(gradient_scaled_by_learning_rate)\n",
    "print()\n",
    "\n",
    "direction_of_update = -1 * gradient_scaled_by_learning_rate\n",
    "print(\"The direction to update the parameter vector\")\n",
    "print(direction_of_update)"
   ]
  },
  {
   "cell_type": "code",
   "execution_count": null,
   "id": "western-theory",
   "metadata": {},
   "outputs": [],
   "source": []
  }
 ],
 "metadata": {
  "kernelspec": {
   "display_name": "Python 3",
   "language": "python",
   "name": "python3"
  },
  "language_info": {
   "codemirror_mode": {
    "name": "ipython",
    "version": 3
   },
   "file_extension": ".py",
   "mimetype": "text/x-python",
   "name": "python",
   "nbconvert_exporter": "python",
   "pygments_lexer": "ipython3",
   "version": "3.9.1"
  }
 },
 "nbformat": 4,
 "nbformat_minor": 5
}
