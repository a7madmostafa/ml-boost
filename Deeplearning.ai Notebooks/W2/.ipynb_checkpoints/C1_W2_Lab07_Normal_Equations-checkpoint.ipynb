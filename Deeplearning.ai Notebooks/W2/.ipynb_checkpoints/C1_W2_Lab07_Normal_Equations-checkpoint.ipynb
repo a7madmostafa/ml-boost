{
 "cells": [
  {
   "cell_type": "markdown",
   "metadata": {},
   "source": [
    "## Ungraded Lab - Normal Equations \n",
    "\n",
    "In the lecture videos, you learned that the closed-form solution to linear regression is\n",
    "\n",
    "\\begin{equation*}\n",
    "w = (X^TX)^{-1}X^Ty \\tag{1}\n",
    "\\end{equation*}\n",
    "\n",
    "Using this formula does not require any feature scaling, and you will get an exact solution in one calculation: there is no “loop until convergence” like in gradient descent.\n",
    "\n",
    "This lab makes extensive use of linear algebra. It is not required for the course, but the solutions are provided and completing it may improve your familiarity with the subject. "
   ]
  },
  {
   "cell_type": "code",
   "execution_count": null,
   "metadata": {},
   "outputs": [],
   "source": [
    "import numpy as np"
   ]
  },
  {
   "cell_type": "markdown",
   "metadata": {},
   "source": [
    "###   Dataset\n",
    "\n",
    "You will again use the motivating example of housing price prediction as in the last few labs. The training dataset contains three examples with 4 features (size, bedrooms, floors and age) shown in the table below.\n",
    "\n",
    "| Size (feet$^2$) | Number of Bedrooms  | Number of floors | Age of  Home | Price (1000s dollars)  |   \n",
    "| ----------------| ------------------- |----------------- |--------------|-------------- |  \n",
    "| 2104            | 5                   | 1                | 45           | 460           |  \n",
    "| 1416            | 3                   | 2                | 40           | 232           |  \n",
    "| 852             | 2                   | 1                | 35           | 178           |  \n",
    "\n",
    "We would like to build a linear regression model using these values so we can then predict the price for other houses - say, a house with 1200 feet$^2$, 3 bedrooms, 1 floor, 40 years old.\n",
    "\n",
    "Please run the following to load the data and extend X with a column of 1's."
   ]
  },
  {
   "cell_type": "code",
   "execution_count": null,
   "metadata": {},
   "outputs": [],
   "source": [
    "# Load data set\n",
    "X_orig = np.array([[2104,5,1,45], [1416,3,2,40], [852,2,1,35]])\n",
    "y_train = np.array([460,232,178]).reshape(-1,1)  #reshape creates (m,1) matrix\n",
    "\n",
    "#extend X_orig with column of ones\n",
    "tmp_ones = np.ones((3,1), dtype=np.int64)  #dtype just added to keep examples neat.. not required\n",
    "X_train = np.concatenate([tmp_ones, X_orig], axis=1)\n",
    "\n",
    "print(f\"X shape: {X_train.shape}, y_shape: {y_train.shape}\")\n",
    "print(X_train)"
   ]
  },
  {
   "cell_type": "markdown",
   "metadata": {},
   "source": [
    "**Exercise**\n",
    "\n",
    "Complete the code in the `normal_equation()` function below. Use the formula above to calculate $w$. Remember that while you don’t need to scale your features, we still need to add a column of 1’s to the original X matrix to have an intercept term $w_0$. \n",
    "\n",
    "**Hint**\n",
    "Look into `np.linalg.pinv()`, `np.transpose()` (also .T) and `np.dot()`. Be sure to use pinv or the pseudo inverse rather than inv."
   ]
  },
  {
   "cell_type": "markdown",
   "metadata": {},
   "source": [
    "<details>\n",
    "  <summary><font size=\"2\" color=\"darkgreen\"><b>Hints</b></font></summary>\n",
    "    \n",
    " \n",
    "    def normal_equation(X, y): \n",
    "\n",
    "    Computes the closed-form solution to linear \n",
    "    regression using the normal equations.\n",
    "    \n",
    "    Parameters\n",
    "    ----------\n",
    "    X : array_like\n",
    "        Shape (m,n)\n",
    "        \n",
    "    y: array_like\n",
    "        Shape (m,)\n",
    "        \n",
    "    Returns\n",
    "    -------\n",
    "    w : array_like\n",
    "        Shape (n,)\n",
    "        Parameters computed by normal equation\n",
    "    \n",
    "    \n",
    "    #(≈ 1 line of code)\n",
    "    # w = \n",
    "    w = np.linalg.pinv(X.T @ X) @ X.T @ y\n",
    "           \n",
    "    return w    \n",
    "\n",
    "</details>"
   ]
  },
  {
   "cell_type": "code",
   "execution_count": null,
   "metadata": {},
   "outputs": [],
   "source": [
    "def normal_equation(X, y): \n",
    "    \"\"\"\n",
    "    Computes the closed-form solution to linear \n",
    "    regression using the normal equations.\n",
    "    \n",
    "    Parameters\n",
    "    ----------\n",
    "    X : array_like\n",
    "        Shape (m,n)\n",
    "        \n",
    "    y: array_like\n",
    "        Shape (m,)\n",
    "        \n",
    "    Returns\n",
    "    -------\n",
    "    w : array_like\n",
    "        Shape (n,)\n",
    "        Parameters computed by normal equation\n",
    "    \"\"\"\n",
    "    \n",
    "    #(≈ 1 line of code)\n",
    "    # w = \n",
    "\n",
    "           \n",
    "    return w"
   ]
  },
  {
   "cell_type": "code",
   "execution_count": null,
   "metadata": {},
   "outputs": [],
   "source": [
    "w_normal = normal_equation(X_train, y_train)\n",
    "print(\"w found by normal equation:\")\n",
    "print(w_normal)"
   ]
  },
  {
   "cell_type": "markdown",
   "metadata": {},
   "source": [
    "<details>\n",
    "<summary>\n",
    "    <b>**Expected Output**:</b>\n",
    "</summary>\n",
    "\n",
    "```\n",
    "w found by normal equation:\n",
    "[[  1.240339  ]\n",
    " [  0.15440335]\n",
    " [ 23.47118976]\n",
    " [-65.69139736]\n",
    " [  1.82734354]]\n",
    "```"
   ]
  },
  {
   "cell_type": "markdown",
   "metadata": {},
   "source": [
    "Now let's see what the prediction is on our training data."
   ]
  },
  {
   "cell_type": "code",
   "execution_count": null,
   "metadata": {},
   "outputs": [],
   "source": [
    "y_pred = X_train @ w_normal\n",
    "print(\"Prediction using computed w:\")\n",
    "print(y_pred)\n",
    "print(\"Our Target values for y:\")\n",
    "print(y_train)"
   ]
  },
  {
   "cell_type": "markdown",
   "metadata": {},
   "source": [
    "<details>\n",
    "<summary>\n",
    "    <b>**Expected Output**:</b>\n",
    "</summary>\n",
    "\n",
    "```\n",
    "Prediction using computed w:\n",
    "[[460.]\n",
    " [232.]\n",
    " [178.]]\n",
    "Our Target values for y:\n",
    "[[460]\n",
    " [232]\n",
    " [178]]\n",
    "```"
   ]
  },
  {
   "cell_type": "markdown",
   "metadata": {},
   "source": [
    "Great! Now we have our parameters for our model. Let's try predicting the price of a house with 1200 feet^2, 3 bedrooms, 1 floor, 40 years old. We will manually add the 1's column."
   ]
  },
  {
   "cell_type": "code",
   "execution_count": null,
   "metadata": {},
   "outputs": [],
   "source": [
    "X_test = np.array([1,1200,3,1,40])\n",
    "\n",
    "y_pred = X_test @ w_normal\n",
    "print(\"our predicted price is: %.2f thousand dollars\" % y_pred)"
   ]
  },
  {
   "cell_type": "markdown",
   "metadata": {},
   "source": [
    "<details>\n",
    "<summary>\n",
    "    <b>**Expected Output**:</b>\n",
    "</summary>\n",
    "\n",
    "```\n",
    "our predicted price is: 264.34 thousand dollars\n",
    "```\n",
    "_seems a bit pricy.._"
   ]
  },
  {
   "cell_type": "code",
   "execution_count": null,
   "metadata": {},
   "outputs": [],
   "source": []
  }
 ],
 "metadata": {
  "kernelspec": {
   "display_name": "Python 3",
   "language": "python",
   "name": "python3"
  },
  "language_info": {
   "codemirror_mode": {
    "name": "ipython",
    "version": 3
   },
   "file_extension": ".py",
   "mimetype": "text/x-python",
   "name": "python",
   "nbconvert_exporter": "python",
   "pygments_lexer": "ipython3",
   "version": "3.8.6"
  }
 },
 "nbformat": 4,
 "nbformat_minor": 5
}
