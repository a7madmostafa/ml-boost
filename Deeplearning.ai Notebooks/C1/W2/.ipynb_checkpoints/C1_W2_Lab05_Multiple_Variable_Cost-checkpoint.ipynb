{
 "cells": [
  {
   "cell_type": "markdown",
   "metadata": {},
   "source": [
    "# Ungraded Lab - Multiple Variable Cost\n",
    "\n",
    "In this lab we will adjust our previous single variable cost calculation to use multiple variables and utilize the NumPy vectors and matrices."
   ]
  },
  {
   "cell_type": "code",
   "execution_count": null,
   "metadata": {},
   "outputs": [],
   "source": [
    "import numpy as np"
   ]
  },
  {
   "cell_type": "markdown",
   "metadata": {},
   "source": [
    "We will utilize the same data set and intialization as the last lab.\n",
    "### Problem Statement\n",
    "\n",
    "You will use the motivating example of housing price prediction. The training dataset contains three examples with 4 features (size,bedrooms,floors and age) shown in the table below.\n",
    "\n",
    "| Size (feet$^2$) | Number of Bedrooms  | Number of floors | Age of  Home | Price (1000s dollars)  |   \n",
    "| ----------------| ------------------- |----------------- |--------------|-------------- |  \n",
    "| 2104            | 5                   | 1                | 45           | 460           |  \n",
    "| 1416            | 3                   | 2                | 40           | 232           |  \n",
    "| 852             | 2                   | 1                | 35           | 178           |  \n",
    "\n",
    "We would like to build a linear regression model using these values so we can then predict the price for other houses - say, a house with 1200 feet$^2$, 3 bedrooms, 1 floor, 40 years old. In this lab you will create the model. In the following labs, we will fit the data. \n",
    "\n",
    "We will set this up without much explaination. Refer to the previous lab for details."
   ]
  },
  {
   "cell_type": "code",
   "execution_count": null,
   "metadata": {},
   "outputs": [],
   "source": [
    "# Load data set\n",
    "X_orig = np.array([[2104,5,1,45], [1416,3,2,40], [852,2,1,35]])\n",
    "y_train = np.array([460,232,178]).reshape(-1,1)  #reshape creates (m,1) matrix\n",
    "\n",
    "#extend X_orig with column of ones\n",
    "tmp_ones = np.ones((3,1), dtype=np.int64)  #dtype just added to keep examples neat.. not required\n",
    "X_train = np.concatenate([tmp_ones, X_orig], axis=1)\n",
    "# load parameters. set to near optimal values\n",
    "w_init = np.array([ 785.1811367994083, 0.39133535,  18.75376741, \n",
    "                   -53.36032453, -26.42131618]).reshape(-1,1)\n",
    "print(f\"X shape: {X_train.shape}, w_shape: {w_init.shape}, y_shape: {y_train.shape}\")"
   ]
  },
  {
   "cell_type": "markdown",
   "metadata": {},
   "source": [
    "#### Calculate the cost\n",
    "Next, calculate the cost $J(\\vec{w})$\n",
    "- Recall that the equation for the cost function $J(w)$ looks like this:\n",
    "$$J(\\mathbf{w}) = \\frac{1}{2m} \\sum\\limits_{i = 0}^{m-1} (f_{\\mathbf{w}}(\\mathbf{x}^{(i)}) - y^{(i)})^2 \\tag{1}$$ \n",
    "\n",
    "- The model prediction is a vector of size m:\n",
    "$$\\mathbf{f_{\\mathbf{w}}(\\mathbf{X})} = \\begin{pmatrix}\n",
    "f_{\\mathbf{w}}(x^{(0)}) \\\\\n",
    "f_{\\mathbf{w}}(x^{(1)}) \\\\\n",
    "\\cdots \\\\\n",
    "f_{\\mathbf{w}}(x^{(m-1)}) \\\\\n",
    "\\end{pmatrix} \n",
    "$$\n",
    "\n",
    "- Similarly, `y_train` contains the actual values as a column vector of m examples\n",
    "$$\\mathbf{y} = \\begin{pmatrix}\n",
    "y^{(0)} \\\\\n",
    "y^{(1)} \\\\\n",
    "\\cdots \\\\\n",
    "y^{(m-1)}\\\\\n",
    "\\end{pmatrix} \n",
    "$$\n",
    "\n",
    "Performing these calculations will involve some matrix and vector operations. These should be familiar from the Linear Algebra review. If not, a short review is at the end of this notebook.\n",
    "\n",
    "Notation:\n",
    "- Adjacent matrix, vector symbols such $\\mathbf{X}\\mathbf{w}$ or $\\mathbf{x}\\mathbf{w}$ implies a matrix multiplication. \n",
    "- An explicit $*$ implies element-wise multiplication.\n",
    "- $()^2$  is element-wise squaring\n",
    "- **bold** lowercase is a vector, **bold** uppercase is a matrix\n"
   ]
  },
  {
   "cell_type": "markdown",
   "metadata": {},
   "source": [
    "Instructions for Vectorized implementation of equation (1) above, computing cost :\n",
    "- calculate prediction for **all** training examples\n",
    "$$f_{\\mathbf{w}}(\\mathbf{X})=\\mathbf{X}\\mathbf{w} \\tag{2}$$\n",
    "-  calculate the cost **all** examples\n",
    "$$cost =  \\frac{1}{2m} \\sum\\limits_{i = 0}^{m-1}((f_{\\mathbf{w}}(\\mathbf{X})-\\mathbf{y})^2) \\tag{3}$$\n",
    "   \n",
    "    - where $m$ is the number of training examples. The result is a scalar."
   ]
  },
  {
   "cell_type": "markdown",
   "metadata": {},
   "source": [
    "<details>\n",
    "<summary>\n",
    "    <font size='3', color='darkgreen'><b>Hints</b></font>\n",
    "</summary>\n",
    "    \n",
    "```\n",
    "#Function to calculate the cost\n",
    "def compute_cost(X, y, w, verbose=False):\n",
    "    \"\"\"\n",
    "    Computes the gradient for linear regression \n",
    "     Args:\n",
    "      X : (array_like Shape (m,n)) variable such as house size \n",
    "      y : (array_like Shape (m,)) actual value \n",
    "      w : (array_like Shape (2,)) parameters of the model \n",
    "      verbose : (Boolean) If true, print out intermediate value f_w\n",
    "    Returns\n",
    "      cost: (scalar) The gradient of the cost w.r.t. the parameters w. \n",
    "                                   Note that dw has the same dimensions as w.\n",
    "    \"\"\"\n",
    "   \n",
    "    m,n = X.shape\n",
    "\n",
    "    # calculate f_w for all examples.\n",
    "    f_w = X @ w  # @ is np.matmul, this the same as np.matmul(X, w)\n",
    "    if verbose: print(\"f_w:\")\n",
    "    if verbose: print(f_w)\n",
    "        \n",
    "    # calculate cost\n",
    "    total_cost = (1/(2*m)) * np.sum((f_w-y)**2)\n",
    "   \n",
    "    return total_cost\n",
    "```"
   ]
  },
  {
   "cell_type": "code",
   "execution_count": null,
   "metadata": {},
   "outputs": [],
   "source": [
    "#Function to calculate the cost\n",
    "def compute_cost(X, y, w, verbose=False):\n",
    "    \"\"\"\n",
    "    Computes the gradient for linear regression \n",
    "     Args:\n",
    "      X : (array_like Shape (m,n)) variable such as house size \n",
    "      y : (array_like Shape (m,)) actual value \n",
    "      w : (array_like Shape (2,)) parameters of the model \n",
    "      verbose : (Boolean) If true, print out intermediate value f_w\n",
    "    Returns\n",
    "      cost: (scalar) The gradient of the cost w.r.t. the parameters w. \n",
    "                                   Note that dw has the same dimensions as w.\n",
    "    \"\"\"\n",
    "   \n",
    "    m,n = X.shape\n",
    "    ### START CODE HERE ### \n",
    "\n",
    "    ### END CODE HERE ### \n",
    "   \n",
    "    return total_cost"
   ]
  },
  {
   "cell_type": "code",
   "execution_count": null,
   "metadata": {},
   "outputs": [],
   "source": [
    "# Compute and display cost using our pre-chosen optimal parameters. \n",
    "# cost should be nearly zero\n",
    "\n",
    "cost = compute_cost(X_train, y_train, w_init, verbose = True)\n",
    "print(f'Cost at optimal w : {cost:.3f}')"
   ]
  },
  {
   "cell_type": "markdown",
   "metadata": {},
   "source": [
    "<details>\n",
    "<summary>\n",
    "    <b>**Expected Output**:</b>\n",
    "</summary>\n",
    "\n",
    "```\n",
    "f_w:\n",
    "[[459.99999762]\n",
    " [231.99999837]\n",
    " [177.99999899]]\n",
    "Cost at optimal w : 0.000\n",
    "```"
   ]
  },
  {
   "cell_type": "markdown",
   "metadata": {},
   "source": [
    "## Matrix/Vector Operation Review\n",
    "Here is a small example to show you how to apply element-wise operations on numpy arrays."
   ]
  },
  {
   "cell_type": "code",
   "execution_count": null,
   "metadata": {},
   "outputs": [],
   "source": [
    "# make a matrix A with 2 rows and 2 columns\n",
    "tmp_A = np.array([[1,1],[1,1]])\n",
    "print(f\"matrix A has {tmp_A.shape[0]} rows and {tmp_A.shape[1]} columns\")\n",
    "print(tmp_A)\n",
    "print()\n",
    "\n",
    "# make a column vector B with 2 rows and 1 column\n",
    "tmp_b = np.array([[2],[1]])\n",
    "print(f\"Vector b has {tmp_b.shape[0]} rows and {tmp_b.shape[1]} column\")\n",
    "print(tmp_b)\n",
    "print()\n",
    "# perform matrix multiplication A x b  (2,2)(2,1)\n",
    "tmp_A_times_b = np.dot(tmp_A,tmp_b)\n",
    "print(\"Multiply A times b\")\n",
    "print(tmp_A_times_b)\n",
    "print(f\"The product has {tmp_A_times_b.shape[0]} rows and {tmp_A_times_b.shape[1]} columns\")"
   ]
  },
  {
   "cell_type": "code",
   "execution_count": null,
   "metadata": {},
   "outputs": [],
   "source": [
    "# make a matrix A with 2 rows and 2 columns\n",
    "tmp_A = np.array([[1,1],[1,1]])\n",
    "print(f\"matrix A has {tmp_A.shape[0]} rows and {tmp_A.shape[1]} columns\")\n",
    "print(tmp_A)\n",
    "print()\n",
    "\n",
    "# make a column vector B with 2 rows and 1 column\n",
    "tmp_b = np.array([[2],[1]])\n",
    "print(f\"Vector b has {tmp_b.shape[0]} rows and {tmp_b.shape[1]} column\")\n",
    "print(tmp_b)\n",
    "print()\n",
    "\n",
    "# Try to perform matrix multiplication b x A, (2,1)(2,2)\n",
    "try:\n",
    "    tmp_b_times_A = np.dot(tmp_b,tmp_A)\n",
    "except Exception as e:\n",
    "    print(\"The error message you'll see is:\")\n",
    "    print(e)"
   ]
  },
  {
   "cell_type": "markdown",
   "metadata": {},
   "source": [
    "The message says that it's checking:\n",
    " - The number of columns of the left matrix `b`, or `dim 1` is 1.\n",
    " - The number of rows on the right matrix `dim 0`, is 2.\n",
    " - 1 does not equal 2\n",
    " - So the two matrices cannot be multiplied together."
   ]
  },
  {
   "cell_type": "code",
   "execution_count": null,
   "metadata": {},
   "outputs": [],
   "source": [
    "# Create two sample column vectors\n",
    "tmp_c = np.array([[1],[2],[3]])\n",
    "print(\"Create a column vector c with 3 rows and 1 column\")\n",
    "print(tmp_c)\n",
    "print()\n",
    "\n",
    "tmp_d = np.array([[2],[2],[2]])\n",
    "print(\"Create a column vector c with 3 rows and 1 column\")\n",
    "print(tmp_d)\n",
    "print()"
   ]
  },
  {
   "cell_type": "markdown",
   "metadata": {},
   "source": [
    "You can apply `+, -, *, /` operators on two vectors of the same length."
   ]
  },
  {
   "cell_type": "code",
   "execution_count": null,
   "metadata": {},
   "outputs": [],
   "source": [
    "# Take the element-wise multiplication of two vectors\n",
    "tmp_mult = tmp_c * tmp_d\n",
    "print(\"Take the element-wise multiplication between vectors c and d\")\n",
    "print(tmp_mult)\n",
    "print()"
   ]
  },
  {
   "cell_type": "markdown",
   "metadata": {},
   "source": [
    "You can use `numpy.square` to apply the element-wise square of a vector\n",
    "- Note, `**2` will also work."
   ]
  },
  {
   "cell_type": "code",
   "execution_count": null,
   "metadata": {},
   "outputs": [],
   "source": [
    "# Take the element-wise square of vector c\n",
    "tmp_square = np.square(tmp_c)\n",
    "tmp_square_option_2 = tmp_c**2\n",
    "print(\"Take the element-wise square of vector c\")\n",
    "print(tmp_square)\n",
    "print()\n",
    "print(\"Another way to get the element-wise square of vector c\")\n",
    "print(tmp_square_option_2)\n",
    "print()"
   ]
  },
  {
   "cell_type": "markdown",
   "metadata": {},
   "source": [
    "You can use `numpy.sum` to add up all the elements of a vector (or matrix)"
   ]
  },
  {
   "cell_type": "code",
   "execution_count": null,
   "metadata": {},
   "outputs": [],
   "source": [
    "# Take the sum of all elements in vector d\n",
    "tmp_sum = np.sum(tmp_d)\n",
    "print(\"Vector d\")\n",
    "print(tmp_d)\n",
    "print()\n",
    "print(\"Take the sum of all the elements in vector d\")\n",
    "print(tmp_sum)"
   ]
  },
  {
   "cell_type": "code",
   "execution_count": null,
   "metadata": {},
   "outputs": [],
   "source": []
  },
  {
   "cell_type": "code",
   "execution_count": null,
   "metadata": {},
   "outputs": [],
   "source": []
  }
 ],
 "metadata": {
  "kernelspec": {
   "display_name": "Python 3",
   "language": "python",
   "name": "python3"
  },
  "language_info": {
   "codemirror_mode": {
    "name": "ipython",
    "version": 3
   },
   "file_extension": ".py",
   "mimetype": "text/x-python",
   "name": "python",
   "nbconvert_exporter": "python",
   "pygments_lexer": "ipython3",
   "version": "3.8.6"
  }
 },
 "nbformat": 4,
 "nbformat_minor": 5
}
