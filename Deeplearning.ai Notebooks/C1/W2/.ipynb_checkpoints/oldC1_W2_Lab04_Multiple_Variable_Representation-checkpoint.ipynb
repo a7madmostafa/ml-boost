{
 "cells": [
  {
   "cell_type": "markdown",
   "id": "existing-laundry",
   "metadata": {},
   "source": [
    "# UGL - Multiple Variable Model Representation\n",
    "\n"
   ]
  },
  {
   "cell_type": "code",
   "execution_count": 2,
   "id": "registered-finnish",
   "metadata": {},
   "outputs": [],
   "source": [
    "import numpy as np\n",
    "import matplotlib.pyplot as plt\n",
    "\n",
    "%matplotlib inline"
   ]
  },
  {
   "cell_type": "code",
   "execution_count": 4,
   "id": "premium-reputation",
   "metadata": {},
   "outputs": [],
   "source": [
    "# Take two data points - TODO: come up with problem statement/explanantion\n",
    "X_orig = np.array([[10,5], [20, 2]])\n",
    "y_orig = np.array([1,2])"
   ]
  },
  {
   "cell_type": "code",
   "execution_count": 5,
   "id": "mature-salmon",
   "metadata": {},
   "outputs": [
    {
     "name": "stdout",
     "output_type": "stream",
     "text": [
      "2\n",
      "2\n"
     ]
    }
   ],
   "source": [
    "# print the length of X_orig\n",
    "print(len(X_orig))\n",
    "\n",
    "# print the length of y_orig\n",
    "print(len(y_orig))"
   ]
  },
  {
   "cell_type": "code",
   "execution_count": 6,
   "id": "future-merchant",
   "metadata": {},
   "outputs": [
    {
     "name": "stdout",
     "output_type": "stream",
     "text": [
      "(2, 2)\n",
      "(2,)\n"
     ]
    }
   ],
   "source": [
    "# print the shape of X_orig\n",
    "print(X_orig.shape)\n",
    "\n",
    "# print the shape of y_orig\n",
    "print(y_orig.shape)"
   ]
  },
  {
   "cell_type": "markdown",
   "id": "enormous-spotlight",
   "metadata": {},
   "source": [
    "## Hypothesis"
   ]
  },
  {
   "cell_type": "markdown",
   "id": "wicked-bread",
   "metadata": {},
   "source": [
    "#### Model prediction\n",
    "The model's prediction is also called the \"hypothesis\", $h_{w}(x)$.  \n",
    "- The prediction is given by the linear model:\n",
    "\n",
    "$$ h_{w}(x) =  w_0 + w_1x_1 \\tag{2}$$\n",
    "\n",
    "This the equation for a line, with an intercept $w_0$ and a slope $w_1$"
   ]
  },
  {
   "cell_type": "markdown",
   "id": "stylish-report",
   "metadata": {},
   "source": [
    "#### Vector notation\n",
    "\n",
    "For convenience of notation, you'll define $\\overrightarrow{x}$ as a vector containing two values:\n",
    "\n",
    "$$ \\vec{x} = \\begin{pmatrix}\n",
    "        x_0 & x_1 \n",
    "      \\end{pmatrix}\n",
    "$$\n",
    "\n",
    "- You'll set $x_0 = 1$. \n",
    "- $x_1$ will be the city population from your dataset `X_orig`. \n",
    "\n",
    "\n",
    "Similarly, you are defining $\\vec{w}$ as a vector containing two values:\n",
    "\n",
    "$$ \\vec{w} = \\begin{pmatrix}\n",
    "        w_0 \\\\ \n",
    "        w_1 \n",
    "      \\end{pmatrix}\n",
    "$$\n",
    "\n",
    "\n",
    "Now the hypothesis $h_{\\vec{w}}(\\vec{x})$ can now be written as\n",
    "\n",
    "$$ h_{\\vec{w}}(\\vec{x}) = \\vec{x} \\times \\vec{w}  \\tag{3}\n",
    "$$ \n",
    "\n",
    "$$\n",
    "h_{\\vec{w}}(\\vec{x}) = \n",
    "\\begin{pmatrix} x_0 & x_1 \\end{pmatrix} \\times \n",
    "\\begin{pmatrix} w_0 \\\\ w_1 \\end{pmatrix} \n",
    "$$\n",
    "$$\n",
    "h_{\\vec{w}}(\\vec{x}) = x_0 \\times w_0 + x_1 \\times w_1 \n",
    "$$\n",
    "Here is a small example: \n",
    "\n"
   ]
  },
  {
   "cell_type": "code",
   "execution_count": 7,
   "id": "embedded-planning",
   "metadata": {},
   "outputs": [
    {
     "name": "stdout",
     "output_type": "stream",
     "text": [
      "The input x is:\n",
      "[1 2]\n",
      "\n",
      "The parameter w is\n",
      "[[3]\n",
      " [4]]\n",
      "\n",
      "The model's prediction is [11]\n"
     ]
    }
   ],
   "source": [
    "# Here is a small concrete example of x and w as vectors\n",
    "\n",
    "tmp_x = np.array([1,2])\n",
    "print(f\"The input x is:\")\n",
    "print(tmp_x)\n",
    "print()\n",
    "\n",
    "tmp_w = np.array([[3],[4]])\n",
    "print(f\"The parameter w is\")\n",
    "print(tmp_w)\n",
    "print()\n",
    "\n",
    "tmp_h = np.dot(tmp_x,tmp_w)\n",
    "print(f\"The model's prediction is {tmp_h}\")"
   ]
  },
  {
   "cell_type": "markdown",
   "id": "continuing-domain",
   "metadata": {},
   "source": [
    "#### Matrix X\n",
    "\n",
    "To allow you to process multiple examples (multiple cities) at a time, you can stack multiple examples (cities) as rows of a matrix $\\mathbf{X}$.\n",
    "\n",
    "For example, let's say New York City is $\\vec{x^{(0)}}$ and San Francisco is $\\vec{x^{(1)}}$.  Then stack New York City in row 1 and San Francisco in row 2 of matrix $\\mathbf{X}$:\n",
    "\n",
    "$$\\mathbf{X} = \\begin{pmatrix}\n",
    " \\vec{x^{(0)}} \\\\ \n",
    " \\vec{x^{(1)}}\n",
    "\\end{pmatrix}\n",
    "$$\n",
    "\n",
    "Recall that each vector consists of $w_0$ and $w_1$, and $\\mathbf{X}$ looks like this:\n",
    "$$\n",
    "\\mathbf{X} = \\begin{pmatrix}\n",
    " x^{(0)}_0 & x^{(0)}_1 \\\\ \n",
    " x^{(1)}_0 & x^{(1)}_1\n",
    "\\end{pmatrix}\n",
    "$$\n",
    "\n",
    "Recall that you're fixing $x_0^{(i)}$ for all cities to be `1`, so you can also write $\\mathbf{X}$ as:\n",
    "$$\\mathbf{X} =\n",
    "\\begin{pmatrix}\n",
    " 1 & x^{(0)}_1 \\\\ \n",
    " 1 & x^{(1)}_1\n",
    "\\end{pmatrix}\n",
    "$$"
   ]
  },
  {
   "cell_type": "code",
   "execution_count": 8,
   "id": "suspended-promise",
   "metadata": {},
   "outputs": [
    {
     "name": "stdout",
     "output_type": "stream",
     "text": [
      "New York City has population 9\n",
      "San Francisco has population 2\n",
      "An example of matrix X with city populations for two cities is:\n",
      "\n",
      "[[1 9]\n",
      " [1 2]]\n"
     ]
    }
   ],
   "source": [
    "# Here is a concrete example\n",
    "\n",
    "tmp_NYC_population = 9\n",
    "tmp_SF_population = 2\n",
    "tmp_x0 = 1 # x0 for all cities\n",
    "\n",
    "tmp_X = np.array([[tmp_x0, tmp_NYC_population],\n",
    "                  [tmp_x0, tmp_SF_population]\n",
    "                 ])\n",
    "\n",
    "print(f\"New York City has population {tmp_NYC_population}\")\n",
    "print(f\"San Francisco has population {tmp_SF_population}\")\n",
    "print(f\"An example of matrix X with city populations for two cities is:\\n\")\n",
    "print(f\"{tmp_X}\")"
   ]
  },
  {
   "cell_type": "markdown",
   "id": "acute-blame",
   "metadata": {},
   "source": [
    "#### Matrix X in general\n",
    "In general, when you have $m$ training examples (in this dataset $m$ is the number of cities), and there are $n$ features (here, just 1 feature, which is city population):\n",
    "- $\\mathbf{X}$ is a matrix with dimensions ($m$, $n+1$) (m rows, n+1 columns)\n",
    "  - Each row is a city and its input features.\n",
    "\n",
    "$$\\mathbf{X} = \\begin{pmatrix}\n",
    " \\vec{x^{(0)}} \\\\ \n",
    " \\vec{x^{(1)}} \\\\\n",
    " \\cdots \\\\\n",
    " \\vec{x^{(m-1)}}\n",
    "\\end{pmatrix}\n",
    "= \\begin{pmatrix}\n",
    " x^{(0)}_0 & x^{(0)}_1 & \\cdots & x^{(0)}_{n} \\\\ \n",
    " x^{(1)}_0 & x^{(1)}_1 & \\cdots & x^{(1)}_{n} \\\\\n",
    " \\cdots \\\\\n",
    " x^{(m-1)}_0 & x^{(m-1)}_1 & \\cdots & x^{(m-1)}_{n} \n",
    "\\end{pmatrix}\n",
    "$$\n",
    "\n",
    "- In this dataset, $n=1$ (city population) and $m=97$ (97 cities in the dataset)\n",
    "\n",
    "$$\\mathbf{X} = \\begin{pmatrix}\n",
    " \\vec{x^{(0)}} \\\\ \n",
    " \\vec{x^{(1)}} \\\\\n",
    " \\cdots \\\\\n",
    " \\vec{x^{(m-1)}}\n",
    "\\end{pmatrix}\n",
    "= \\begin{pmatrix}\n",
    " x^{(0)}_0 & x^{(0)}_1  \\\\ \n",
    " x^{(1)}_0 & x^{(1)}_1 \\\\\n",
    " \\cdots \\\\\n",
    " x^{(97-1)}_0 & x^{(97-1)}_1 \n",
    "\\end{pmatrix}\n",
    "$$\n",
    "\n",
    "- $\\vec{w}$ is a vector with dimensions ($n+1$, $1$) (n+1 rows, 1 column)\n",
    "  - Each column represents one feature.\n",
    "\n",
    "$$\\vec{w} = \\begin{pmatrix}\n",
    "w_0 \\\\ \n",
    "w_1 \\\\\n",
    "\\cdots\\\\\n",
    "w_{n}\n",
    "\\end{pmatrix}\n",
    "$$\n",
    "- In this dataset, there is just the intercept and the city population feature:\n",
    "$$\\vec{w} = \\begin{pmatrix}\n",
    "w_0 \\\\ \n",
    "w_1 \\\\\n",
    "\\end{pmatrix}\n",
    "$$"
   ]
  },
  {
   "cell_type": "markdown",
   "id": "criminal-financing",
   "metadata": {},
   "source": [
    "#### Processing data: Add the column for the intercept\n",
    "\n",
    "To calculate the cost and implement gradient descent, you will want to first add another column to your data (as $x_0$) to accomodate the $w_0$ intercept term. \n",
    "- This allows you to treat $w_0$ as simply another 'feature': feature 0.\n",
    "- The city population is then $w_1$, or feature 1.\n",
    "\n",
    "So if your original $\\mathbf{X_{orig}}$ looks like this:\n",
    "\n",
    "$$ \n",
    "\\mathbf{X_{orig}} = \n",
    "\\begin{pmatrix}\n",
    " x^{(0)}_1 \\\\ \n",
    " x^{(1)}_1 \\\\\n",
    " \\cdots \\\\\n",
    " x^{(97-1)}_1 \n",
    "\\end{pmatrix}\n",
    "$$\n",
    "\n",
    "You will want to combine it with a vector of ones:\n",
    "$$\n",
    "\\vec{1} = \n",
    "\\begin{pmatrix}\n",
    " x^{(0)}_0 \\\\ \n",
    " x^{(1)}_0  \\\\\n",
    " \\cdots \\\\\n",
    " x^{(m-1)}_0\n",
    "\\end{pmatrix}\n",
    "= \n",
    "\\begin{pmatrix}\n",
    " 1 \\\\ \n",
    " 1 \\\\\n",
    " \\cdots \\\\\n",
    " 1\n",
    "\\end{pmatrix}\n",
    "$$\n",
    "\n",
    "So it will look like this:\n",
    "$$\n",
    "\\mathbf{X} = \\begin{pmatrix} \\vec{1} & \\mathbf{X_{orig}}\\end{pmatrix}\n",
    "=\n",
    "\\begin{pmatrix}\n",
    " 1 & x^{(0)}_1 \\\\ \n",
    " 1 & x^{(1)}_1 \\\\\n",
    " \\cdots \\\\\n",
    " 1 & x^{(97-1)}_1 \n",
    "\\end{pmatrix}\n",
    "$$\n",
    "\n",
    "Here is a small example of what you'll want to do."
   ]
  },
  {
   "cell_type": "code",
   "execution_count": 11,
   "id": "concerned-violence",
   "metadata": {},
   "outputs": [
    {
     "name": "stdout",
     "output_type": "stream",
     "text": [
      "Matrix of city populations\n",
      "[[9]\n",
      " [2]]\n",
      "\n",
      "Column vector of ones ({tmp_num_of_cities} rows and 1 column)\n",
      "[[1.]\n",
      " [1.]]\n",
      "\n",
      "Vector of ones stacked to the left of tmp_X_orig\n",
      "[[1. 9.]\n",
      " [1. 2.]]\n",
      "tmp_x has shape: (2, 2)\n"
     ]
    }
   ],
   "source": [
    "tmp_NYC_population = 9\n",
    "tmp_SF_population = 2\n",
    "tmp_x0 = 1 # x0 for all cities\n",
    "tmp_num_of_cities = 2\n",
    "\n",
    "tmp_X_orig = np.array([[tmp_NYC_population],\n",
    "                       [tmp_SF_population]\n",
    "                      ])\n",
    "\n",
    "print(\"Matrix of city populations\")\n",
    "print(tmp_X_orig)\n",
    "print()\n",
    "\n",
    "# Use np.ones to create a column vector of ones\n",
    "tmp_ones = np.ones((tmp_num_of_cities,1))\n",
    "print(\"Column vector of ones ({tmp_num_of_cities} rows and 1 column)\")\n",
    "print(tmp_ones)\n",
    "print()\n",
    "\n",
    "tmp_X = np.concatenate([tmp_ones, tmp_X_orig], axis=1)\n",
    "print(\"Vector of ones stacked to the left of tmp_X_orig\")\n",
    "print(tmp_X)\n",
    "\n",
    "print(f\"tmp_x has shape: {tmp_X.shape}\")"
   ]
  },
  {
   "cell_type": "markdown",
   "id": "young-living",
   "metadata": {},
   "source": [
    "In this small example, the $\\mathbf{X}$ is now:\n",
    "$$\\mathbf{X} = \n",
    "\\begin{pmatrix}\n",
    "1 & 9 \\\\\n",
    "1 & 2\n",
    "\\end{pmatrix}\n",
    "$$\n",
    "\n",
    "Notice that when calling `np.concatenate`, you're setting `axis=1`.  \n",
    "- This puts the vector of ones on the left and the tmp_X_orig to the right.\n",
    "- If you set axis = 0, then `np.concatenate` would place the vector of ones ON TOP of tmp_X_orig"
   ]
  },
  {
   "cell_type": "code",
   "execution_count": 13,
   "id": "united-roots",
   "metadata": {},
   "outputs": [
    {
     "name": "stdout",
     "output_type": "stream",
     "text": [
      "Calling numpy.concatenate, setting axis=0\n",
      "Vector of ones stacked to the ON TOP of tmp_X_orig\n",
      "[[1.]\n",
      " [1.]\n",
      " [9.]\n",
      " [2.]]\n"
     ]
    }
   ],
   "source": [
    "print(\"Calling numpy.concatenate, setting axis=0\")\n",
    "tmp_X_version_2 = np.concatenate([tmp_ones, tmp_X_orig], axis=0)\n",
    "print(\"Vector of ones stacked to the ON TOP of tmp_X_orig\")\n",
    "print(tmp_X_version_2)"
   ]
  },
  {
   "cell_type": "markdown",
   "id": "hydraulic-inspector",
   "metadata": {},
   "source": [
    "So if you set axis=1, $\\mathbf{X}$ looks like this:\n",
    "$$\\mathbf{X} = \n",
    "\\begin{pmatrix}\n",
    "1 \\\\ 1 \\\\\n",
    "9 \\\\ 2\n",
    "\\end{pmatrix}\n",
    "$$\n",
    "This is **NOT** what you want.\n",
    "\n",
    "You'll want to set axis=1 so that you get a column vector of ones on the left and a colun vector of the city populations on the right:\n",
    "\n",
    "$$\\mathbf{X} = \n",
    "\\begin{pmatrix}\n",
    "1 & x^{(0)}_1 \\\\\n",
    "1 & x^{(1)}_1\n",
    "\\end{pmatrix}\n",
    "$$"
   ]
  },
  {
   "cell_type": "code",
   "execution_count": null,
   "id": "gorgeous-bermuda",
   "metadata": {},
   "outputs": [],
   "source": [
    "# Add a column to X_orig to account for the w_0 term\n",
    "# X_train = np.stack([np.ones(X_orig.shape), X_orig], axis=1)\n",
    "m = len(X_col)\n",
    "col_vec_ones = np.ones((m, 1))\n",
    "X_train = np.concatenate([col_vec_ones, X_col], axis=1)\n",
    "# Keep y_orig the same\n",
    "y_train = y_col\n",
    "\n",
    "print ('The shape of X_train is: ' + str(X_train.shape))\n",
    "print ('The shape of y_train is: ' + str(y_train.shape))"
   ]
  }
 ],
 "metadata": {
  "kernelspec": {
   "display_name": "Python 3",
   "language": "python",
   "name": "python3"
  },
  "language_info": {
   "codemirror_mode": {
    "name": "ipython",
    "version": 3
   },
   "file_extension": ".py",
   "mimetype": "text/x-python",
   "name": "python",
   "nbconvert_exporter": "python",
   "pygments_lexer": "ipython3",
   "version": "3.9.1"
  }
 },
 "nbformat": 4,
 "nbformat_minor": 5
}
