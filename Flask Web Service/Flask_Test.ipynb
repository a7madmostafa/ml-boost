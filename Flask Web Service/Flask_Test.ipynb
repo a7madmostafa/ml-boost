{
 "cells": [
  {
   "cell_type": "code",
   "execution_count": 3,
   "metadata": {},
   "outputs": [
    {
     "name": "stdout",
     "output_type": "stream",
     "text": [
      "{'prediction': 0}\n"
     ]
    }
   ],
   "source": [
    "import requests\n",
    "import json\n",
    "\n",
    "flower = {\n",
    "    \"petal_length\": 5.1,\n",
    "    \"petal_width\": 3.5,\n",
    "    \"sepal_length\": 1.4,\n",
    "    \"sepal_width\": 0.2\n",
    "}\n",
    "\n",
    "url = 'http://localhost:8080/predict'\n",
    "response = requests.post(url, json=flower)\n",
    "result = response.json()\n",
    "print(result)"
   ]
  }
 ],
 "metadata": {
  "kernelspec": {
   "display_name": "base",
   "language": "python",
   "name": "python3"
  },
  "language_info": {
   "codemirror_mode": {
    "name": "ipython",
    "version": 3
   },
   "file_extension": ".py",
   "mimetype": "text/x-python",
   "name": "python",
   "nbconvert_exporter": "python",
   "pygments_lexer": "ipython3",
   "version": "3.12.4"
  }
 },
 "nbformat": 4,
 "nbformat_minor": 2
}
